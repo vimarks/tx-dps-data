{
 "cells": [
  {
   "cell_type": "code",
   "execution_count": 1,
   "metadata": {},
   "outputs": [],
   "source": [
    "import sqlite3 \n",
    "import pandas as pd"
   ]
  },
  {
   "cell_type": "code",
   "execution_count": 2,
   "metadata": {},
   "outputs": [],
   "source": [
    "conn = sqlite3.connect(\"./merged_dataset_with_dates 2.sqlite\")"
   ]
  },
  {
   "cell_type": "code",
   "execution_count": 3,
   "metadata": {},
   "outputs": [],
   "source": [
    "def find_percent_num_crash_diff(counties):\n",
    "    results = []\n",
    "    for county in counties:\n",
    "        county = county.upper()\n",
    "\n",
    "        sql = \"SELECT `County`, `Crash Year`, COUNT(distinct `Crash ID`) AS `Num Crashes` FROM crash_data WHERE `County` = ? GROUP BY `Crash Year`\"\n",
    "        df1 = pd.read_sql_query(sql, conn, params=[county])\n",
    "\n",
    "        crashes = df1[\"Num Crashes\"].tolist()\n",
    "        num_crashes_2019 = crashes[0]\n",
    "        num_crashes_2020 = crashes[1]\n",
    "        diff = num_crashes_2019 - num_crashes_2020\n",
    "        \n",
    "        percent_diff = (diff/num_crashes_2019) * 100\n",
    "        results.append(percent_diff)\n",
    "        \n",
    "    data = {'County':counties, '% Less Crashes':results}\n",
    "    df2 = pd.DataFrame(data)\n",
    "        \n",
    "    return df2.sort_values('% Less Crashes', ascending=False)"
   ]
  },
  {
   "cell_type": "markdown",
   "metadata": {},
   "source": [
    "### Difference in crashes of top 10 counties between 2019 and 2020"
   ]
  },
  {
   "cell_type": "code",
   "execution_count": 4,
   "metadata": {},
   "outputs": [
    {
     "data": {
      "text/html": [
       "<div>\n",
       "<style scoped>\n",
       "    .dataframe tbody tr th:only-of-type {\n",
       "        vertical-align: middle;\n",
       "    }\n",
       "\n",
       "    .dataframe tbody tr th {\n",
       "        vertical-align: top;\n",
       "    }\n",
       "\n",
       "    .dataframe thead th {\n",
       "        text-align: right;\n",
       "    }\n",
       "</style>\n",
       "<table border=\"1\" class=\"dataframe\">\n",
       "  <thead>\n",
       "    <tr style=\"text-align: right;\">\n",
       "      <th></th>\n",
       "      <th>County</th>\n",
       "      <th>% Less Crashes</th>\n",
       "    </tr>\n",
       "  </thead>\n",
       "  <tbody>\n",
       "    <tr>\n",
       "      <th>5</th>\n",
       "      <td>Collin</td>\n",
       "      <td>46.593215</td>\n",
       "    </tr>\n",
       "    <tr>\n",
       "      <th>6</th>\n",
       "      <td>Denton</td>\n",
       "      <td>45.304878</td>\n",
       "    </tr>\n",
       "    <tr>\n",
       "      <th>4</th>\n",
       "      <td>Travis</td>\n",
       "      <td>40.489828</td>\n",
       "    </tr>\n",
       "    <tr>\n",
       "      <th>8</th>\n",
       "      <td>El Paso</td>\n",
       "      <td>40.071455</td>\n",
       "    </tr>\n",
       "    <tr>\n",
       "      <th>3</th>\n",
       "      <td>Bexar</td>\n",
       "      <td>39.933155</td>\n",
       "    </tr>\n",
       "    <tr>\n",
       "      <th>7</th>\n",
       "      <td>Hidalgo</td>\n",
       "      <td>38.333333</td>\n",
       "    </tr>\n",
       "    <tr>\n",
       "      <th>2</th>\n",
       "      <td>Tarrant</td>\n",
       "      <td>38.211832</td>\n",
       "    </tr>\n",
       "    <tr>\n",
       "      <th>0</th>\n",
       "      <td>Harris</td>\n",
       "      <td>33.774750</td>\n",
       "    </tr>\n",
       "    <tr>\n",
       "      <th>1</th>\n",
       "      <td>Dallas</td>\n",
       "      <td>31.551818</td>\n",
       "    </tr>\n",
       "  </tbody>\n",
       "</table>\n",
       "</div>"
      ],
      "text/plain": [
       "    County  % Less Crashes\n",
       "5   Collin       46.593215\n",
       "6   Denton       45.304878\n",
       "4   Travis       40.489828\n",
       "8  El Paso       40.071455\n",
       "3    Bexar       39.933155\n",
       "7  Hidalgo       38.333333\n",
       "2  Tarrant       38.211832\n",
       "0   Harris       33.774750\n",
       "1   Dallas       31.551818"
      ]
     },
     "execution_count": 4,
     "metadata": {},
     "output_type": "execute_result"
    }
   ],
   "source": [
    "find_percent_num_crash_diff(['Harris','Dallas','Tarrant','Bexar','Travis','Collin','Denton','Hidalgo','El Paso'])"
   ]
  },
  {
   "cell_type": "code",
   "execution_count": 5,
   "metadata": {},
   "outputs": [],
   "source": [
    "def compare_dd_crashes():\n",
    "    results = []\n",
    "    \n",
    "    dd_sql = \"SELECT `Crash Year`, COUNT(`Person Alcohol Result`) AS `dd_crashes` FROM crash_data WHERE `Person Alcohol Result` = '1 - POSITIVE' GROUP BY `Crash Year`\"\n",
    "    df1 = pd.read_sql_query(dd_sql, conn)\n",
    "    \n",
    "    dd_crashes = df1[\"dd_crashes\"].tolist()\n",
    "    dd_crashes_2019 = dd_crashes[0]\n",
    "    dd_crashes_2020 = dd_crashes[1]\n",
    "    \n",
    "    crash_total_sql =\"SELECT `Crash Year`, COUNT(distinct `Crash ID`) AS `Num Crashes` FROM crash_data GROUP BY `Crash Year`\"\n",
    "    df2 = pd.read_sql_query(crash_total_sql, conn)\n",
    "    crashes = df2[\"Num Crashes\"].tolist()\n",
    "    crashes_2019 = crashes[0]\n",
    "    crashes_2020 = crashes[1]\n",
    "    \n",
    "    results.append(dd_crashes_2019 / crashes_2019 * 100)\n",
    "    results.append(dd_crashes_2020 / crashes_2020 * 100)\n",
    "    \n",
    "    df1[\"% of Total Crashes\"] = results\n",
    "   \n",
    "    return df1"
   ]
  },
  {
   "cell_type": "markdown",
   "metadata": {},
   "source": [
    "### Percent of Total Crashes that were Alcohol Related"
   ]
  },
  {
   "cell_type": "code",
   "execution_count": 6,
   "metadata": {},
   "outputs": [
    {
     "data": {
      "text/html": [
       "<div>\n",
       "<style scoped>\n",
       "    .dataframe tbody tr th:only-of-type {\n",
       "        vertical-align: middle;\n",
       "    }\n",
       "\n",
       "    .dataframe tbody tr th {\n",
       "        vertical-align: top;\n",
       "    }\n",
       "\n",
       "    .dataframe thead th {\n",
       "        text-align: right;\n",
       "    }\n",
       "</style>\n",
       "<table border=\"1\" class=\"dataframe\">\n",
       "  <thead>\n",
       "    <tr style=\"text-align: right;\">\n",
       "      <th></th>\n",
       "      <th>Crash Year</th>\n",
       "      <th>dd_crashes</th>\n",
       "      <th>% of Total Crashes</th>\n",
       "    </tr>\n",
       "  </thead>\n",
       "  <tbody>\n",
       "    <tr>\n",
       "      <th>0</th>\n",
       "      <td>2019</td>\n",
       "      <td>2596</td>\n",
       "      <td>1.696921</td>\n",
       "    </tr>\n",
       "    <tr>\n",
       "      <th>1</th>\n",
       "      <td>2020</td>\n",
       "      <td>1350</td>\n",
       "      <td>1.368558</td>\n",
       "    </tr>\n",
       "  </tbody>\n",
       "</table>\n",
       "</div>"
      ],
      "text/plain": [
       "   Crash Year  dd_crashes  % of Total Crashes\n",
       "0        2019        2596            1.696921\n",
       "1        2020        1350            1.368558"
      ]
     },
     "execution_count": 6,
     "metadata": {},
     "output_type": "execute_result"
    }
   ],
   "source": [
    "compare_dd_crashes()"
   ]
  }
 ],
 "metadata": {
  "kernelspec": {
   "display_name": "Python 3",
   "language": "python",
   "name": "python3"
  },
  "language_info": {
   "codemirror_mode": {
    "name": "ipython",
    "version": 3
   },
   "file_extension": ".py",
   "mimetype": "text/x-python",
   "name": "python",
   "nbconvert_exporter": "python",
   "pygments_lexer": "ipython3",
   "version": "3.8.3"
  }
 },
 "nbformat": 4,
 "nbformat_minor": 4
}
